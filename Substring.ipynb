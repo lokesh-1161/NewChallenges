{
  "nbformat": 4,
  "nbformat_minor": 0,
  "metadata": {
    "colab": {
      "name": "Untitled6.ipynb",
      "private_outputs": true,
      "provenance": []
    },
    "kernelspec": {
      "name": "python3",
      "display_name": "Python 3"
    },
    "language_info": {
      "name": "python"
    }
  },
  "cells": [
    {
      "cell_type": "code",
      "metadata": {
        "id": "xS7zhQ_RAsa_"
      },
      "source": [
        "# Function to find Longest Common Sub-string\n",
        "  \n",
        "from difflib import SequenceMatcher\n",
        "  \n",
        "def longestSubstring(str1,str2):\n",
        "     seqMatch = SequenceMatcher(None,str1,str2)\n",
        "     match = seqMatch.find_longest_match(0, len(str1), 0, len(str2))\n",
        "     if (match.size!=0):\n",
        "          print (str1[match.a: match.a + match.size]) \n",
        "     else:\n",
        "          print ('No longest common sub-string found')\n",
        "if __name__ == \"__main__\":\n",
        "    A = list(map(int, input().split()))\n",
        "    B = list(map(int, input().split()))\n",
        "    str1 = str(A)\n",
        "    str2 = str(B)\n",
        "    longestSubstring(str1,str2)"
      ],
      "execution_count": null,
      "outputs": []
    }
  ]
}