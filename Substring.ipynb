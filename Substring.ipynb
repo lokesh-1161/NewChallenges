{
  "nbformat": 4,
  "nbformat_minor": 0,
  "metadata": {
    "colab": {
      "name": "Untitled6.ipynb",
      "private_outputs": true,
      "provenance": []
    },
    "kernelspec": {
      "name": "python394jvsc74a57bd0022c0e72af7bde87e6f8340d3c0610155e48342fa11b799da5ff79dbf4a16673",
      "display_name": "Python 3.9.4 64-bit ('PythonSoftwareFoundation.Python.3.9_qbz5n2kfra8p0')"
    },
    "language_info": {
      "name": "python",
      "version": "3.9.4"
    },
    "metadata": {
      "interpreter": {
        "hash": "022c0e72af7bde87e6f8340d3c0610155e48342fa11b799da5ff79dbf4a16673"
      }
    }
  },
  "cells": [
    {
      "cell_type": "code",
      "metadata": {
        "id": "xS7zhQ_RAsa_"
      },
      "source": [
        "# Function to find Longest Common Sub-string\n",
        "  \n",
        "from difflib import SequenceMatcher\n",
        "  \n",
        "def longestSubstring(str1,str2):\n",
        "     seqMatch = SequenceMatcher(None,str1,str2)\n",
        "     match = seqMatch.find_longest_match(0, len(str1), 0, len(str2))\n",
        "     if (match.size!=0):\n",
        "          print (str1[match.a: match.a + match.size]) \n",
        "     else:\n",
        "          print ('No longest common sub-string found')\n",
        "if __name__ == \"__main__\":\n",
        "    A = list(map(int, input().split()))\n",
        "    B = list(map(int, input().split()))\n",
        "    str1 = str(A)\n",
        "    str2 = str(B)\n",
        "    longestSubstring(str1,str2)"
      ],
      "execution_count": 1,
      "outputs": [
        {
          "output_type": "stream",
          "name": "stdout",
          "text": [
            ", 7, 4, 2, 7, 9, \n"
          ]
        }
      ]
    },
    {
      "cell_type": "code",
      "execution_count": null,
      "metadata": {},
      "outputs": [],
      "source": []
    }
  ]
}