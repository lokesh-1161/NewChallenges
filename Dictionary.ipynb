{
  "nbformat": 4,
  "nbformat_minor": 0,
  "metadata": {
    "colab": {
      "name": "Untitled6.ipynb",
      "private_outputs": true,
      "provenance": []
    },
    "kernelspec": {
      "name": "python3",
      "display_name": "Python 3"
    },
    "language_info": {
      "name": "python"
    }
  },
  "cells": [
    {
      "cell_type": "code",
      "metadata": {
        "id": "1ZzkJzz_vgJb"
      },
      "source": [
        "import urllib.request\n",
        "word=input()\n",
        "web=urllib.request.urlopen('https://api.dictionaryapi.dev/api/v2/entries/en_US/'+word)\n",
        "print(str(web.read()))"
      ],
      "execution_count": null,
      "outputs": []
    }
  ]
}