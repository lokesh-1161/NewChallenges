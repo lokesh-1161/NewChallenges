{
  "nbformat": 4,
  "nbformat_minor": 0,
  "metadata": {
    "colab": {
      "name": "Untitled6.ipynb",
      "private_outputs": true,
      "provenance": []
    },
    "kernelspec": {
      "name": "python394jvsc74a57bd0022c0e72af7bde87e6f8340d3c0610155e48342fa11b799da5ff79dbf4a16673",
      "display_name": "Python 3.9.4 64-bit ('PythonSoftwareFoundation.Python.3.9_qbz5n2kfra8p0')"
    },
    "language_info": {
      "name": "python",
      "version": "3.9.4"
    },
    "metadata": {
      "interpreter": {
        "hash": "022c0e72af7bde87e6f8340d3c0610155e48342fa11b799da5ff79dbf4a16673"
      }
    }
  },
  "cells": [
    {
      "cell_type": "code",
      "metadata": {
        "id": "1ZzkJzz_vgJb"
      },
      "source": [
        "import urllib.request\n",
        "word=input()\n",
        "web=urllib.request.urlopen('https://api.dictionaryapi.dev/api/v2/entries/en_US/'+word)\n",
        "print(str(web.read()))"
      ],
      "execution_count": 1,
      "outputs": [
        {
          "output_type": "stream",
          "name": "stdout",
          "text": [
            "b'[{\"word\":\"house\",\"phonetics\":[{\"text\":\"/ha\\xca\\x8as/\",\"audio\":\"https://lex-audio.useremarkable.com/mp3/house_us_1.mp3\"},{\"text\":\"/ha\\xca\\x8az/\",\"audio\":\"https://lex-audio.useremarkable.com/mp3/house_us_2.mp3\"}],\"meanings\":[{\"partOfSpeech\":\"transitive verb\",\"definitions\":[{\"definition\":\"Provide (a person or animal) with shelter or living quarters.\",\"synonyms\":[\"accommodate\",\"provide accommodation for\",\"provide with accommodation\",\"give accommodation to\",\"make space for\",\"make room for\",\"give someone a roof over their head\",\"provide a roof over someone\\'s head\",\"provide with a place to work\",\"harbour\"],\"example\":\"attempts by the government to house the poor\"},{\"definition\":\"Provide space for; accommodate.\",\"synonyms\":[\"contain\",\"hold\",\"store\",\"cover\"],\"example\":\"the museum houses a collection of Roman sculpture\"},{\"definition\":\"Eat the whole of (something), typically very quickly.\"}]},{\"partOfSpeech\":\"noun\",\"definitions\":[{\"definition\":\"A building for human habitation, especially one that is lived in by a family or small group of people.\",\"synonyms\":[\"home\",\"place of residence\",\"homestead\",\"lodging place\",\"a roof over one\\'s head\"],\"example\":\"my wife and I are moving to a new house\"},{\"definition\":\"A building in which people meet for a particular activity.\",\"example\":\"a house of prayer\"},{\"definition\":\"A religious community that occupies a particular building.\",\"example\":\"the Cistercian house at Clairvaux\"},{\"definition\":\"A legislative or deliberative assembly.\",\"synonyms\":[\"legislative assembly\",\"legislative body\",\"chamber\",\"council\",\"parliament\",\"diet\",\"congress\",\"senate\"],\"example\":\"the sixty-member National Council, the country\\'s upper house\"},{\"definition\":\"A style of popular dance music typically using synthesized drum and bass lines, sparse repetitive vocals, and a fast beat.\",\"example\":\"DJs specializing in techno, garage, and house\"},{\"definition\":\"Any of the twelve divisions of the celestial sphere, based on the positions of the ascendant and midheaven at a given time and place, and determined by any of a number of methods.\",\"example\":\"It is also good to have the ruler of the Ascendant and the 2nd house in mutual reception.\"}]},{\"partOfSpeech\":\"adjective\",\"definitions\":[{\"definition\":\"(of an animal or plant) kept in, frequenting, or infesting buildings.\",\"example\":\"The study also showed that rather than living in hutches, four out of 10 pet rabbits were house rabbits.\"},{\"definition\":\"Relating to a business, institution, or society.\",\"example\":\"a house journal\"}]}]}]'\n"
          ]
        }
      ]
    },
    {
      "cell_type": "code",
      "execution_count": null,
      "metadata": {},
      "outputs": [],
      "source": []
    }
  ]
}