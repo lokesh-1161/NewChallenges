{
  "nbformat": 4,
  "nbformat_minor": 0,
  "metadata": {
    "colab": {
      "name": "Untitled6.ipynb",
      "private_outputs": true,
      "provenance": []
    },
    "kernelspec": {
      "name": "python3",
      "display_name": "Python 3"
    },
    "language_info": {
      "name": "python"
    }
  },
  "cells": [
    {
      "cell_type": "code",
      "metadata": {
        "id": "xS7zhQ_RAsa_"
      },
      "source": [
        "pip install yagmail"
      ],
      "execution_count": null,
      "outputs": []
    },
    {
      "cell_type": "code",
      "metadata": {
        "id": "r5dVaxXLCzuC"
      },
      "source": [
        "import yagmail\n",
        "your_email=input(\"Your Email ID:\")\n",
        "password=input(\"Password:\")\n",
        "send_email=input(\"send_email:\")\n",
        "body=input(\"body:\")\n",
        "message=input(\"message:\")\n",
        "yag = yagmail.SMTP(your_email, password)\n",
        "yag.send(send_email, body, message)"
      ],
      "execution_count": null,
      "outputs": []
    }
  ]
}